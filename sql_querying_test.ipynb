{
 "cells": [
  {
   "cell_type": "markdown",
   "metadata": {},
   "source": [
    "### LLM over SQL demo: LobbyIQ\n",
    "\n",
    "Primary challenge: we need to provide more metadata and contextual information about the tables and fields to the artifical intelligence tool. In the meantime, we will be slightly more explicit about what they mean.\n"
   ]
  },
  {
   "cell_type": "code",
   "execution_count": 14,
   "metadata": {},
   "outputs": [],
   "source": [
    "# What do you want to know?\n",
    "user_question = \"Consider the e_registration_linking table. Which lobbying firms have been the most active in their representation endeavours? Consider the top 10 lobbying firms, and use the most appropriate coalesced fields where available.\""
   ]
  },
  {
   "cell_type": "markdown",
   "metadata": {},
   "source": [
    "##### Import libraries and configure connections to DB and Azure OpenAI\n"
   ]
  },
  {
   "cell_type": "code",
   "execution_count": 15,
   "metadata": {},
   "outputs": [],
   "source": [
    "import streamlit as st\n",
    "\n",
    "# from openai import OpenAI\n",
    "from openai import AzureOpenAI\n",
    "import psycopg2\n",
    "import os\n",
    "from decimal import Decimal\n",
    "from datetime import date\n",
    "import dotenv\n",
    "\n",
    "\n",
    "dotenv.load_dotenv()\n",
    "\n",
    "# Set up OpenAI API credentials\n",
    "# client = OpenAI()\n",
    "client = AzureOpenAI()\n",
    "\n",
    "# PostgreSQL connection details\n",
    "DB_HOST = os.getenv(\"Host\")\n",
    "DB_PORT = os.getenv(\"Port\")\n",
    "DB_NAME = os.getenv(\"Database\")\n",
    "DB_USER = os.getenv(\"Username\")\n",
    "DB_PASSWORD = os.getenv(\"Password\")\n",
    "\n",
    "# Connect to PostgreSQL\n",
    "conn = psycopg2.connect(\n",
    "    host=DB_HOST, port=DB_PORT, dbname=DB_NAME, user=DB_USER, password=DB_PASSWORD\n",
    ")\n",
    "\n",
    "\n",
    "def gpt_4o_analysis(question, context):\n",
    "    \"\"\"\n",
    "    Uses the GPT-4o model on Azure OpenAI endpoint to generate a conversational response.\n",
    "    \"\"\"\n",
    "    messages = [\n",
    "        {\n",
    "            \"role\": \"system\",\n",
    "            \"content\": \"You are LobbyIQ's AI database assistant. Based on the user's question and relevant information retrieved, provide a detailed response. If there was not relevant information retrieved or you cannot answer confidently, let the user know.\",\n",
    "        },\n",
    "        {\"role\": \"user\", \"content\": f\"The provided context is: {context}\"},\n",
    "        {\"role\": \"user\", \"content\": f\"The user's question is: {question}\"},\n",
    "    ]\n",
    "\n",
    "    response = client.chat.completions.create(\n",
    "        model=\"liq-gpt-4o\",  # for Azure\n",
    "        # model=\"gpt-4o\", # for OpenAI\n",
    "        # max_tokens=500,\n",
    "        n=1,\n",
    "        stop=None,\n",
    "        temperature=0,\n",
    "        messages=messages,\n",
    "    )\n",
    "\n",
    "    return response.choices[0].message.content.strip()"
   ]
  },
  {
   "cell_type": "markdown",
   "metadata": {},
   "source": [
    "##### Configure LangChain SQL DB Chain\n"
   ]
  },
  {
   "cell_type": "code",
   "execution_count": 16,
   "metadata": {},
   "outputs": [
    {
     "name": "stderr",
     "output_type": "stream",
     "text": [
      "/Users/raymondwang/.pyenv/versions/3.10.12/lib/python3.10/site-packages/langchain_community/utilities/sql_database.py:122: SAWarning: Did not recognize type 'vector' of column 'embedding'\n",
      "  self._metadata.reflect(\n"
     ]
    },
    {
     "name": "stdout",
     "output_type": "stream",
     "text": [
      "The detected DB dialect is postgresql\n",
      "The detected DB tables are ['b_commmittee_studies_mapping', 'b_studies', 'b_studies_bills_mapping', 'b_studies_briefs_mapping', 'b_studies_meetings_mapping', 'b_studies_reports_mapping', 'bill_aggregates', 'child_users', 'ci_issue_day_topics', 'ci_issue_mapping', 'ci_issues', 'ci_issues_audit', 'ci_issues_keyword_mapping', 'ci_issues_keyword_mapping_audit', 'ci_issues_tagged_topic_mapping', 'ci_issues_tagged_topic_mapping_audit', 'ci_keyword_committee_meetings', 'ci_keyword_dates', 'ci_keyword_regid', 'ci_keywords', 'ci_t_keyword_committee_meetings', 'ci_t_keyword_regid', 'ci_tagged_topics', 'ci_topic_frequency_30_day', 'clean_liq', 'combination_en_client_org_corp_nm_an', 'combined_debates', 'combined_meetings', 'committee_aggregates', 'committee_aggregates_annual', 'committee_issue_month', 'committee_issue_month_party', 'committee_issue_psm', 'committee_issue_psm_party', 'committee_mapping', 'committee_membership', 'committee_topic_psm', 'consultant_aggregates', 'consultant_aggregates_annual', 'db_to_mp_id', 'dpoh', 'dpoh_aggregates', 'dpoh_aggregates_annual', 'dpoh_titles_crosswalk', 'drop_textrank', 'drop_tfidf', 'e_registration_linking', 'e_registration_primary', 'e_registration_subjectmatter_details', 'email_committee_meetings', 'email_keyword_alerts', 'email_stakeholder_dpoh', 'email_stakeholder_institution', 'email_stakeholder_issue', 'email_stakeholder_sector', 'filtered_comms', 'final_minutes', 'firm_aggregates', 'firm_aggregates_annual', 'firm_id_depr', 'firm_name_depr', 'global_aggregates', 'global_aggregates_annual', 'gov_announcements', 'hoc', 'industry_aggregates', 'industry_aggregates_annual', 'institution_aggregates', 'institution_aggregates_annual', 'institution_name', 'issue_aggregates', 'issue_committee_month', 'issue_committee_month_topics', 'issue_committee_month_topics_ids', 'issue_committee_psm', 'issue_committee_psm_topics', 'issue_committee_psm_topics_ids', 'issue_day_topics', 'issue_mapping', 'issue_name', 'issues', 'issues_subjects_mapping', 'issues_subjects_mapping_temp', 'keyword_dates', 'keywords_import', 'keywords_issue_mapping', 'keywords_issue_mapping_temp', 'latest_update', 'manual_never_match_firm', 'minutes_dates', 'mps_list', 'naics_crosswalk', 'naics_crosswalk_temp', 'naics_details_v2', 'naics_mapping_v2_depr', 'naics_reg_id', 'organization_aggregates', 'organization_aggregates_annual', 'organization_name_change', 'overview', 'parliament_dates', 'recent_meetings', 'recents', 'registration_aggregates', 'registration_aggregates_2', 'registration_aggregates_annual', 'registration_beneficiary_type', 'registration_bills', 'registration_client_org_corp_profil_id', 'registration_dpoh_ind_tcpd', 'registration_rgstrnt_num_declarant', 'registration_type', 'registration_version_code', 'registrations', 'reviewed_keywords', 'reviewed_organizations', 'reviewed_topics', 's_codes_subjectmattercategories', 's_codes_subjectmattertypes', 's_committee_titles', 's_committee_witnesses', 's_communication_dpoh', 's_communication_primary', 's_communication_primary_archive', 's_communication_subjectmatters', 's_inhouse_bus_dev', 's_keyword_regid', 's_registration_beneficiaries', 's_registration_communication_techniques', 's_registration_consultant_lobbyists', 's_registration_government_funding', 's_registration_government_inst', 's_registration_government_inst_manual', 's_registration_inhouse_lobbyists', 's_registration_primary', 's_registration_public_office', 's_registration_subjectmatter_details', 's_registration_subjectmatters', 's_registrations_primary_archive', 's_textrank_committee', 's_textrank_committee_archive', 's_textrank_mp', 's_tfidf', 's_tfidf_committee', 's_tfidf_committee_archive', 's_tfidf_institution', 'selection_committee', 'selection_committee_audit', 'selection_institution', 'selection_institution_audit', 'selection_newsletter', 'selection_newsletter_audit', 'selection_sector', 'selection_sector_audit', 'sen_info', 'senate_committees', 'senate_daily_members', 'senate_daily_witnesses', 'session_dates', 'subject_aggregates', 'subject_aggregates_annual', 'subjects', 't_combined_debates', 't_combined_meetings', 't_committee_titles', 't_committee_witnesses', 't_communication_dpoh', 't_communication_primary', 't_communication_subjectmatters', 't_db_to_mp_id', 't_descriptions', 't_inhouse_bus_dev', 't_keyword_regid', 't_registration_beneficiaries', 't_registration_communication_techniques', 't_registration_consultant_lobbyists', 't_registration_government_funding', 't_registration_government_inst', 't_registration_government_inst_manual', 't_registration_inhouse_lobbyists', 't_registration_primary', 't_registration_public_office', 't_registration_subjectmatter_details', 't_registration_subjectmatters', 't_senate_daily_members', 't_senate_daily_witnesses', 't_textrank_committee', 't_textrank_mp', 't_tfidf', 't_tfidf_committee', 't_tfidf_institution', 'temp_issue_mapping', 'temp_issues', 'temp_mps_list', 'topic_frequency_30_day', 'trial_email_subscriptions', 'unmapped_db_id', 'users', 'users_in_house', 'users_products']\n",
      "\n",
      "\n",
      "\n",
      "\n",
      "Here is the generated query to be executed against the database. ```sql\n",
      "SELECT \n",
      "    unnest(\"firm_clean_coalesce\") AS \"lobbying_firm\", \n",
      "    COUNT(*) AS \"representation_count\"\n",
      "FROM \n",
      "    e_registration_linking\n",
      "GROUP BY \n",
      "    unnest(\"firm_clean_coalesce\")\n",
      "ORDER BY \n",
      "    \"representation_count\" DESC\n",
      "LIMIT 10;\n",
      "```\n"
     ]
    }
   ],
   "source": [
    "from langchain.chains import create_sql_query_chain\n",
    "from langchain_openai import AzureChatOpenAI\n",
    "\n",
    "pg_uri = f\"postgresql+psycopg2://{DB_USER}:{DB_PASSWORD}@{DB_HOST}:{DB_PORT}/{DB_NAME}\"\n",
    "from langchain_community.utilities import SQLDatabase\n",
    "\n",
    "db = SQLDatabase.from_uri(pg_uri)\n",
    "print(\"The detected DB dialect is \" + str(db.dialect))\n",
    "print(\"The detected DB tables are \" + str(db.get_usable_table_names()))\n",
    "\n",
    "# liq-gpt-4o; liq-gpt-35\n",
    "llm = AzureChatOpenAI(model=\"liq-gpt-4o\", temperature=0)\n",
    "\n",
    "chain = create_sql_query_chain(llm, db)\n",
    "generated_sql = chain.invoke(\n",
    "    {\n",
    "        \"question\": user_question\n",
    "        + \" YOU MUST RETURN ONLY PROPER, ERROR-FREE POSTGRESQL COMPLAINT QUERIES IN PLAIN-TEXT FORMAT, WITH NO ANALYSIS, WRAPPERS, OR FORMATTING SYMBOLS.\"\n",
    "    }\n",
    ")\n",
    "print(\n",
    "    \"\\n\\n\\n\\nHere is the generated query to be executed against the database. \"\n",
    "    + generated_sql\n",
    ")"
   ]
  },
  {
   "cell_type": "code",
   "execution_count": 17,
   "metadata": {},
   "outputs": [
    {
     "name": "stdout",
     "output_type": "stream",
     "text": [
      "The results of the SQL query are [(None, 1083), ('The Capital Hill Group Inc.', 92), ('PAA Advisory | Conseils', 82), ('Crestview Strategy', 77), ('Sussex Strategy Group', 62), ('StrategyCorp Inc.', 51), ('Global Public Affairs', 50), ('Temple Scott Associates Inc.', 41), ('Earnscliffe Strategy Group', 41), ('Impact Public Affairs', 37)]\n"
     ]
    }
   ],
   "source": [
    "# Run the query\n",
    "# keep only the content in generated_sql between ```sql ```\n",
    "generated_sql = generated_sql.strip(\"```sql\").strip(\"```\")\n",
    "sql_results = db.run(generated_sql)\n",
    "print(\"The results of the SQL query are \" + str(sql_results))"
   ]
  },
  {
   "cell_type": "markdown",
   "metadata": {},
   "source": [
    "#### Analyze the SQL results\n"
   ]
  },
  {
   "cell_type": "code",
   "execution_count": 18,
   "metadata": {},
   "outputs": [
    {
     "name": "stdout",
     "output_type": "stream",
     "text": [
      "Based on the SQL query and the result provided, the top 10 most active lobbying firms in their representation endeavors, according to the `e_registration_linking` table, are as follows:\n",
      "\n",
      "1. **The Capital Hill Group Inc.** - 92 representations\n",
      "2. **PAA Advisory | Conseils** - 82 representations\n",
      "3. **Crestview Strategy** - 77 representations\n",
      "4. **Sussex Strategy Group** - 62 representations\n",
      "5. **StrategyCorp Inc.** - 51 representations\n",
      "6. **Global Public Affairs** - 50 representations\n",
      "7. **Temple Scott Associates Inc.** - 41 representations\n",
      "8. **Earnscliffe Strategy Group** - 41 representations\n",
      "9. **Impact Public Affairs** - 37 representations\n",
      "\n",
      "It appears that the first entry in the SQL result is `None` with 1083 representations, which might indicate missing or uncleaned data. Therefore, it is not considered a valid lobbying firm for this context.\n"
     ]
    }
   ],
   "source": [
    "sql_context = f\"\"\"Given the following user question, corresponding SQL query, and SQL result, answer the user question.\n",
    "\n",
    "Question: {user_question}\n",
    "SQL Query: {generated_sql}\n",
    "SQL Result: {sql_results}\n",
    "Answer: \"\"\"\n",
    "\n",
    "# usage: gpt_4o_analysis(context, question)\n",
    "final_answer = gpt_4o_analysis(sql_context, user_question)\n",
    "print(final_answer)"
   ]
  },
  {
   "cell_type": "code",
   "execution_count": 26,
   "metadata": {},
   "outputs": [
    {
     "name": "stderr",
     "output_type": "stream",
     "text": [
      "/Users/raymondwang/.pyenv/versions/3.10.12/lib/python3.10/site-packages/langchain_community/utilities/sql_database.py:122: SAWarning: Did not recognize type 'vector' of column 'embedding'\n",
      "  self._metadata.reflect(\n"
     ]
    },
    {
     "name": "stdout",
     "output_type": "stream",
     "text": [
      "The detected DB dialect is postgresql\n",
      "The detected DB tables are ['b_commmittee_studies_mapping', 'b_studies', 'b_studies_bills_mapping', 'b_studies_briefs_mapping', 'b_studies_meetings_mapping', 'b_studies_reports_mapping', 'bill_aggregates', 'child_users', 'ci_issue_day_topics', 'ci_issue_mapping', 'ci_issues', 'ci_issues_audit', 'ci_issues_keyword_mapping', 'ci_issues_keyword_mapping_audit', 'ci_issues_tagged_topic_mapping', 'ci_issues_tagged_topic_mapping_audit', 'ci_keyword_committee_meetings', 'ci_keyword_dates', 'ci_keyword_regid', 'ci_keywords', 'ci_t_keyword_committee_meetings', 'ci_t_keyword_regid', 'ci_tagged_topics', 'ci_topic_frequency_30_day', 'clean_liq', 'combination_en_client_org_corp_nm_an', 'combined_debates', 'combined_meetings', 'committee_aggregates', 'committee_aggregates_annual', 'committee_issue_month', 'committee_issue_month_party', 'committee_issue_psm', 'committee_issue_psm_party', 'committee_mapping', 'committee_membership', 'committee_topic_psm', 'consultant_aggregates', 'consultant_aggregates_annual', 'db_to_mp_id', 'dpoh', 'dpoh_aggregates', 'dpoh_aggregates_annual', 'dpoh_titles_crosswalk', 'drop_textrank', 'drop_tfidf', 'e_registration_linking', 'e_registration_primary', 'e_registration_subjectmatter_details', 'email_committee_meetings', 'email_keyword_alerts', 'email_stakeholder_dpoh', 'email_stakeholder_institution', 'email_stakeholder_issue', 'email_stakeholder_sector', 'filtered_comms', 'final_minutes', 'firm_aggregates', 'firm_aggregates_annual', 'firm_id_depr', 'firm_name_depr', 'global_aggregates', 'global_aggregates_annual', 'gov_announcements', 'hoc', 'industry_aggregates', 'industry_aggregates_annual', 'institution_aggregates', 'institution_aggregates_annual', 'institution_name', 'issue_aggregates', 'issue_committee_month', 'issue_committee_month_topics', 'issue_committee_month_topics_ids', 'issue_committee_psm', 'issue_committee_psm_topics', 'issue_committee_psm_topics_ids', 'issue_day_topics', 'issue_mapping', 'issue_name', 'issues', 'issues_subjects_mapping', 'issues_subjects_mapping_temp', 'keyword_dates', 'keywords_import', 'keywords_issue_mapping', 'keywords_issue_mapping_temp', 'latest_update', 'manual_never_match_firm', 'minutes_dates', 'mps_list', 'naics_crosswalk', 'naics_crosswalk_temp', 'naics_details_v2', 'naics_mapping_v2_depr', 'naics_reg_id', 'organization_aggregates', 'organization_aggregates_annual', 'organization_name_change', 'overview', 'parliament_dates', 'recent_meetings', 'recents', 'registration_aggregates', 'registration_aggregates_2', 'registration_aggregates_annual', 'registration_beneficiary_type', 'registration_bills', 'registration_client_org_corp_profil_id', 'registration_dpoh_ind_tcpd', 'registration_rgstrnt_num_declarant', 'registration_type', 'registration_version_code', 'registrations', 'reviewed_keywords', 'reviewed_organizations', 'reviewed_topics', 's_codes_subjectmattercategories', 's_codes_subjectmattertypes', 's_committee_titles', 's_committee_witnesses', 's_communication_dpoh', 's_communication_primary', 's_communication_primary_archive', 's_communication_subjectmatters', 's_inhouse_bus_dev', 's_keyword_regid', 's_registration_beneficiaries', 's_registration_communication_techniques', 's_registration_consultant_lobbyists', 's_registration_government_funding', 's_registration_government_inst', 's_registration_government_inst_manual', 's_registration_inhouse_lobbyists', 's_registration_primary', 's_registration_public_office', 's_registration_subjectmatter_details', 's_registration_subjectmatters', 's_registrations_primary_archive', 's_textrank_committee', 's_textrank_committee_archive', 's_textrank_mp', 's_tfidf', 's_tfidf_committee', 's_tfidf_committee_archive', 's_tfidf_institution', 'selection_committee', 'selection_committee_audit', 'selection_institution', 'selection_institution_audit', 'selection_newsletter', 'selection_newsletter_audit', 'selection_sector', 'selection_sector_audit', 'sen_info', 'senate_committees', 'senate_daily_members', 'senate_daily_witnesses', 'session_dates', 'subject_aggregates', 'subject_aggregates_annual', 'subjects', 't_combined_debates', 't_combined_meetings', 't_committee_titles', 't_committee_witnesses', 't_communication_dpoh', 't_communication_primary', 't_communication_subjectmatters', 't_db_to_mp_id', 't_descriptions', 't_inhouse_bus_dev', 't_keyword_regid', 't_registration_beneficiaries', 't_registration_communication_techniques', 't_registration_consultant_lobbyists', 't_registration_government_funding', 't_registration_government_inst', 't_registration_government_inst_manual', 't_registration_inhouse_lobbyists', 't_registration_primary', 't_registration_public_office', 't_registration_subjectmatter_details', 't_registration_subjectmatters', 't_senate_daily_members', 't_senate_daily_witnesses', 't_textrank_committee', 't_textrank_mp', 't_tfidf', 't_tfidf_committee', 't_tfidf_institution', 'temp_issue_mapping', 'temp_issues', 'temp_mps_list', 'topic_frequency_30_day', 'trial_email_subscriptions', 'unmapped_db_id', 'users', 'users_in_house', 'users_products']\n",
      "\n",
      "\n",
      "\n",
      "\n",
      "Here is the generated query to be executed against the database. ```sql\n",
      "SELECT \n",
      "    \"firm_clean\", \n",
      "    MAX(\"effective_date_vigueur\") AS \"most_recent_date\"\n",
      "FROM \n",
      "    \"e_registration_primary\"\n",
      "WHERE \n",
      "    \"firm_clean\" IN (\n",
      "        'The Capital Hill Group Inc.', \n",
      "        'PAA Advisory | Conseils', \n",
      "        'Crestview Strategy', \n",
      "        'Sussex Strategy Group', \n",
      "        'StrategyCorp Inc.', \n",
      "        'Global Public Affairs', \n",
      "        'Temple Scott Associates Inc.', \n",
      "        'Earnscliffe Strategy Group', \n",
      "        'Impact Public Affairs'\n",
      "    )\n",
      "GROUP BY \n",
      "    \"firm_clean\"\n",
      "ORDER BY \n",
      "    \"most_recent_date\" DESC\n",
      "LIMIT 5;\n",
      "```\n",
      "The results of the SQL query are [('Impact Public Affairs', datetime.date(2024, 5, 6)), ('Crestview Strategy', datetime.date(2024, 5, 4)), ('Sussex Strategy Group', datetime.date(2024, 5, 3)), ('Temple Scott Associates Inc.', datetime.date(2024, 5, 3)), ('PAA Advisory | Conseils', datetime.date(2024, 5, 3))]\n",
      "Based on the SQL query and the result provided, the most recent activity dates for the top 10 most active lobbying firms are as follows:\n",
      "\n",
      "1. **Impact Public Affairs** - Most recently active on May 6, 2024\n",
      "2. **Crestview Strategy** - Most recently active on May 4, 2024\n",
      "3. **Sussex Strategy Group** - Most recently active on May 3, 2024\n",
      "4. **Temple Scott Associates Inc.** - Most recently active on May 3, 2024\n",
      "5. **PAA Advisory | Conseils** - Most recently active on May 3, 2024\n",
      "\n",
      "The SQL result only provides the most recent activity dates for 5 out of the 10 firms listed. To get the most recent activity dates for the remaining firms, you would need to run the query without the `LIMIT 5` clause.\n"
     ]
    }
   ],
   "source": [
    "# Continue querying the database\n",
    "\n",
    "next_query = f\"\"\"\n",
    "Here is some conversation history: {final_answer}\n",
    "Now, the next query is:\n",
    "When were each of these lobbying firms MOST RECENTLY active? That is, what is the most recent client they took on and at what time? Firms and clients must be treated as sets (ensure the syntax passed in your query presents it as a set).\n",
    "\"\"\"\n",
    "\n",
    "from follow_up import follow_up\n",
    "\n",
    "ans = follow_up(next_query)"
   ]
  }
 ],
 "metadata": {
  "kernelspec": {
   "display_name": "Python 3",
   "language": "python",
   "name": "python3"
  },
  "language_info": {
   "codemirror_mode": {
    "name": "ipython",
    "version": 3
   },
   "file_extension": ".py",
   "mimetype": "text/x-python",
   "name": "python",
   "nbconvert_exporter": "python",
   "pygments_lexer": "ipython3",
   "version": "3.10.12"
  }
 },
 "nbformat": 4,
 "nbformat_minor": 2
}
